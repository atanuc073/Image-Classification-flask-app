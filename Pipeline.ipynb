{
 "cells": [
  {
   "cell_type": "code",
   "execution_count": 1,
   "metadata": {},
   "outputs": [
    {
     "name": "stderr",
     "output_type": "stream",
     "text": [
      "/home/atanuc73/anaconda3/lib/python3.7/site-packages/skimage/io/manage_plugins.py:23: UserWarning: Your installed pillow version is < 7.1.0. Several security issues (CVE-2020-11538, CVE-2020-10379, CVE-2020-10994, CVE-2020-10177) have been fixed in pillow 7.1.0 or higher. We recommend to upgrade this library.\n",
      "  from .collection import imread_collection_wrapper\n"
     ]
    }
   ],
   "source": [
    "import numpy as np\n",
    "import pandas as pd\n",
    "import scipy\n",
    "import sklearn\n",
    "from sklearn.pipeline import make_pipeline\n",
    "import os\n",
    "\n",
    "# Skimage\n",
    "import skimage\n",
    "import skimage.color\n",
    "import skimage.transform\n",
    "import skimage.feature\n",
    "import skimage.io"
   ]
  },
  {
   "cell_type": "code",
   "execution_count": 2,
   "metadata": {},
   "outputs": [],
   "source": [
    "from sklearn.base import BaseEstimator , TransformerMixin\n",
    "class rgb2gray_transform(BaseEstimator,TransformerMixin):\n",
    "    import skimage.color\n",
    "    def __init__(self):\n",
    "        pass\n",
    "    def fit(self,X,y=None):\n",
    "        return self\n",
    "    def transform(self,X,y=None):\n",
    "        return np.array([skimage.color.rgb2gray(x) for x in X])\n",
    "    \n",
    "\n",
    "    \n",
    "class Hogtransformer(BaseEstimator,TransformerMixin):\n",
    "    import skimage.feature\n",
    "    def __init__(self,orientations=9,pixals_per_cell=(8,8),cells_per_block=(3,3)):\n",
    "        self.orientations=orientations\n",
    "        self.pixals_per_cell=pixals_per_cell\n",
    "        self.cells_per_block=cells_per_block\n",
    "        \n",
    "    def fit(self,X,y=None):\n",
    "        return self\n",
    "    \n",
    "    def transform(self,X,y=None):\n",
    "        def local_hog(img):\n",
    "            hog_features=skimage.feature.hog(img,orientations=self.orientations,\n",
    "                                            pixels_per_cell=self.pixals_per_cell,\n",
    "                                            cells_per_block=self.cells_per_block)\n",
    "            \n",
    "            return hog_features\n",
    "        \n",
    "        hfeatures=np.array([local_hog(x) for x in X])\n",
    "        return hfeatures\n"
   ]
  },
  {
   "cell_type": "code",
   "execution_count": 3,
   "metadata": {},
   "outputs": [],
   "source": [
    "import matplotlib.pyplot as plt\n",
    "%matplotlib inline"
   ]
  },
  {
   "cell_type": "code",
   "execution_count": 4,
   "metadata": {},
   "outputs": [],
   "source": [
    "# pipeline model\n",
    "image=skimage.io.imread(\"elephant.jpeg\")\n",
    "\n",
    "# Transform it into 80X80\n",
    "image_resize=skimage.transform.resize(image,(80,80))\n",
    "image_scale=255*image_resize\n",
    "image_transform=image_scale.astype(np.uint8)\n",
    "\n",
    "# RGB to GRAY\n",
    "gray=skimage.color.rgb2gray(image_transform)\n",
    "# Hog Feature\n",
    "feature_vector=skimage.feature.hog(gray,orientations=10,\n",
    "                                  pixels_per_cell=(8,8),\n",
    "                                  cells_per_block=(2,2))"
   ]
  },
  {
   "cell_type": "code",
   "execution_count": 5,
   "metadata": {},
   "outputs": [
    {
     "data": {
      "text/plain": [
       "array([0.        , 0.        , 0.        , ..., 0.16082567, 0.25081797,\n",
       "       0.21789461])"
      ]
     },
     "execution_count": 5,
     "metadata": {},
     "output_type": "execute_result"
    }
   ],
   "source": [
    "feature_vector"
   ]
  },
  {
   "cell_type": "code",
   "execution_count": 6,
   "metadata": {},
   "outputs": [],
   "source": [
    "import pickle\n",
    "# Load the Model\n",
    "model=pickle.load(open('dsa_image_classification_sgd.pickle','rb'))\n",
    "scaler=pickle.load(open(\"dsa_scaler.pickle\",\"rb\"))"
   ]
  },
  {
   "cell_type": "code",
   "execution_count": 7,
   "metadata": {},
   "outputs": [
    {
     "data": {
      "text/plain": [
       "(3240,)"
      ]
     },
     "execution_count": 7,
     "metadata": {},
     "output_type": "execute_result"
    }
   ],
   "source": [
    "feature_vector.shape"
   ]
  },
  {
   "cell_type": "code",
   "execution_count": 8,
   "metadata": {},
   "outputs": [],
   "source": [
    "scalex=scaler.transform(feature_vector.reshape(1,-1))\n",
    "result=model.predict(scalex)"
   ]
  },
  {
   "cell_type": "code",
   "execution_count": 9,
   "metadata": {},
   "outputs": [
    {
     "data": {
      "text/plain": [
       "array(['elephant'], dtype='<U8')"
      ]
     },
     "execution_count": 9,
     "metadata": {},
     "output_type": "execute_result"
    }
   ],
   "source": [
    "result"
   ]
  },
  {
   "cell_type": "code",
   "execution_count": 10,
   "metadata": {},
   "outputs": [],
   "source": [
    "# Calculate The Probability\n",
    "decision_value=model.decision_function(scalex)"
   ]
  },
  {
   "cell_type": "code",
   "execution_count": 11,
   "metadata": {},
   "outputs": [
    {
     "data": {
      "text/plain": [
       "array([[-237.02600769, -286.71001118, -209.3477756 , -113.87781771,\n",
       "        -214.63308396, -106.54292903,  -39.63609587, -173.37445117,\n",
       "          20.62798692,  -84.35810647, -314.73116083, -390.66426869,\n",
       "        -292.75851399, -157.01513869, -163.1979668 , -131.71830447,\n",
       "        -127.59223954,  -48.96161625, -213.62099188, -322.04224277]])"
      ]
     },
     "execution_count": 11,
     "metadata": {},
     "output_type": "execute_result"
    }
   ],
   "source": [
    "decision_value"
   ]
  },
  {
   "cell_type": "code",
   "execution_count": 12,
   "metadata": {},
   "outputs": [
    {
     "data": {
      "text/plain": [
       "array(['bear', 'cat', 'chicken', 'cow', 'deer', 'dog', 'duck', 'eagle',\n",
       "       'elephant', 'human', 'lion', 'monkey', 'mouse', 'natural', 'panda',\n",
       "       'pigeon', 'rabbit', 'sheep', 'tiger', 'wolf'], dtype='<U8')"
      ]
     },
     "execution_count": 12,
     "metadata": {},
     "output_type": "execute_result"
    }
   ],
   "source": [
    "labels=model.classes_\n",
    "labels"
   ]
  },
  {
   "cell_type": "code",
   "execution_count": 13,
   "metadata": {},
   "outputs": [
    {
     "data": {
      "text/plain": [
       "array([-237.02600769, -286.71001118, -209.3477756 , -113.87781771,\n",
       "       -214.63308396, -106.54292903,  -39.63609587, -173.37445117,\n",
       "         20.62798692,  -84.35810647, -314.73116083, -390.66426869,\n",
       "       -292.75851399, -157.01513869, -163.1979668 , -131.71830447,\n",
       "       -127.59223954,  -48.96161625, -213.62099188, -322.04224277])"
      ]
     },
     "execution_count": 13,
     "metadata": {},
     "output_type": "execute_result"
    }
   ],
   "source": [
    "decision_value=decision_value.flatten()\n",
    "decision_value"
   ]
  },
  {
   "cell_type": "code",
   "execution_count": 14,
   "metadata": {},
   "outputs": [
    {
     "data": {
      "image/png": "[encoded data removed]",
      "text/plain": [
       "<Figure size 432x288 with 1 Axes>"
      ]
     },
     "metadata": {
      "needs_background": "light"
     },
     "output_type": "display_data"
    }
   ],
   "source": [
    "plt.barh(labels,decision_value);"
   ]
  },
  {
   "cell_type": "code",
   "execution_count": 15,
   "metadata": {},
   "outputs": [
    {
     "data": {
      "text/plain": [
       "array([0.01825005, 0.01130472, 0.02383088, 0.05981765, 0.02264712,\n",
       "       0.06420032, 0.12236174, 0.03370886, 0.2187479 , 0.07950875,\n",
       "       0.00862875, 0.00415002, 0.01066442, 0.0394669 , 0.03718334,\n",
       "       0.05036622, 0.0524099 , 0.11184174, 0.02286916, 0.00804155])"
      ]
     },
     "execution_count": 15,
     "metadata": {},
     "output_type": "execute_result"
    }
   ],
   "source": [
    "# Calculate The Z Score\n",
    "z=scipy.stats.zscore(decision_value)\n",
    "prob_value=scipy.special.softmax(z)\n",
    "prob_value"
   ]
  },
  {
   "cell_type": "code",
   "execution_count": 16,
   "metadata": {},
   "outputs": [
    {
     "data": {
      "image/png": "[encoded data removed]",
      "text/plain": [
       "<Figure size 432x288 with 1 Axes>"
      ]
     },
     "metadata": {
      "needs_background": "light"
     },
     "output_type": "display_data"
    }
   ],
   "source": [
    "plt.barh(labels,prob_value)\n",
    "plt.grid()"
   ]
  },
  {
   "cell_type": "code",
   "execution_count": 17,
   "metadata": {},
   "outputs": [
    {
     "data": {
      "text/plain": [
       "array([ 8,  6, 17,  9,  5])"
      ]
     },
     "execution_count": 17,
     "metadata": {},
     "output_type": "execute_result"
    }
   ],
   "source": [
    "# top five probabilty values\n",
    "top_5_prob_ind = prob_value.argsort()[::-1][:5]\n",
    "top_5_prob_ind"
   ]
  },
  {
   "cell_type": "code",
   "execution_count": 18,
   "metadata": {},
   "outputs": [],
   "source": [
    "top_labels = labels[top_5_prob_ind]\n",
    "top_prob = prob_value[top_5_prob_ind]\n",
    "top_dict=dict()\n",
    "for key,val in zip(top_labels,top_prob):\n",
    "    top_dict.update({key:np.round(val,2)})"
   ]
  },
  {
   "cell_type": "code",
   "execution_count": 19,
   "metadata": {},
   "outputs": [
    {
     "data": {
      "text/plain": [
       "{'elephant': 0.22, 'duck': 0.12, 'sheep': 0.11, 'human': 0.08, 'dog': 0.06}"
      ]
     },
     "execution_count": 19,
     "metadata": {},
     "output_type": "execute_result"
    }
   ],
   "source": [
    "top_dict"
   ]
  },
  {
   "cell_type": "code",
   "execution_count": 23,
   "metadata": {},
   "outputs": [],
   "source": [
    "def pipeline_model(path,scaler_transform,model_sgd):\n",
    "    # Pipeline Model\n",
    "    image=skimage.io.imread(path)\n",
    "    # Transform image into 80 X 80\n",
    "    image_resize=skimage.transform.resize(image,(80,80))\n",
    "    image_scale=255 * image_resize\n",
    "    image_transform=image_scale.astype(np.uint8)\n",
    "    # RGB to GRAY\n",
    "    gray=skimage.color.rgb2gray(image_transform)\n",
    "    # Hog Feature\n",
    "    feature_vector=skimage.feature.hog(gray,orientations=10,pixels_per_cell=(8,8),\n",
    "                                      cells_per_block=(2,2))\n",
    "    # Scaling\n",
    "    scalex=scaler_transform.transform(feature_vector.reshape(1,-1))\n",
    "    result=model_sgd.predict(scalex)\n",
    "    # Decision function # Confidence\n",
    "    decision_value=model_sgd.decision_function(scalex).flatten()\n",
    "    labels=model_sgd.classes_\n",
    "    # probability\n",
    "    z=scipy.stats.zscore(decision_value)\n",
    "    prob_value=scipy.special.softmax(z)\n",
    "    \n",
    "    # Top 5\n",
    "    top_5_prob_ind=prob_value.argsort()[::-1][:5]\n",
    "    top_labels = labels[top_5_prob_ind]\n",
    "    top_prob = prob_value[top_5_prob_ind]\n",
    "    # put it in Dictionary\n",
    "    top_dict={}\n",
    "    for key,val in zip(top_labels,top_prob):\n",
    "        top_dict.update({key:np.round(val,3)})\n",
    "        \n",
    "    return top_dict\n"
   ]
  },
  {
   "cell_type": "code",
   "execution_count": 24,
   "metadata": {},
   "outputs": [
    {
     "data": {
      "text/plain": [
       "{'elephant': 0.219, 'duck': 0.122, 'sheep': 0.112, 'human': 0.08, 'dog': 0.064}"
      ]
     },
     "execution_count": 24,
     "metadata": {},
     "output_type": "execute_result"
    }
   ],
   "source": [
    "res=pipeline_model('elephant.jpeg',scaler,model)\n",
    "res"
   ]
  },
  {
   "cell_type": "code",
   "execution_count": null,
   "metadata": {},
   "outputs": [],
   "source": []
  }
 ],
 "metadata": {
  "kernelspec": {
   "display_name": "Python 3",
   "language": "python",
   "name": "python3"
  },
  "language_info": {
   "codemirror_mode": {
    "name": "ipython",
    "version": 3
   },
   "file_extension": ".py",
   "mimetype": "text/x-python",
   "name": "python",
   "nbconvert_exporter": "python",
   "pygments_lexer": "ipython3",
   "version": "3.7.4"
  }
 },
 "nbformat": 4,
 "nbformat_minor": 2
}
